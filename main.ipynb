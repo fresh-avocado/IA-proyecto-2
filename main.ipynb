{
 "metadata": {
  "language_info": {
   "codemirror_mode": {
    "name": "ipython",
    "version": 3
   },
   "file_extension": ".py",
   "mimetype": "text/x-python",
   "name": "python",
   "nbconvert_exporter": "python",
   "pygments_lexer": "ipython3",
   "version": "3.8.3"
  },
  "orig_nbformat": 2,
  "kernelspec": {
   "name": "python383jvsc74a57bd002d14053a0d30a89a98570829f6049590ba51daa42c54776e92be8f5297988b0",
   "display_name": "Python 3.8.3 64-bit ('base': conda)"
  },
  "metadata": {
   "interpreter": {
    "hash": "7608111d8280e4973f9e672a3d8b0e616a91df100671ec03b704cfb98b46a000"
   }
  }
 },
 "nbformat": 4,
 "nbformat_minor": 2,
 "cells": [
  {
   "cell_type": "code",
   "execution_count": 4,
   "metadata": {
    "tags": []
   },
   "outputs": [],
   "source": [
    "from skimage.io import imread_collection , concatenate_images\n",
    "from sklearn.neighbors import NearestNeighbors\n",
    "from sklearn import preprocessing\n",
    "import numpy as np\n",
    "import matplotlib.pyplot as plt\n",
    "import pywt as ptw\n",
    "import copy as cp\n",
    "from skimage.io.manage_plugins import _inject_imread_collection_if_needed\n"
   ]
  },
  {
   "cell_type": "code",
   "execution_count": 5,
   "metadata": {},
   "outputs": [],
   "source": [
    "def draw(image):\n",
    "    plt.imshow(image)\n",
    "    plt.show()\n",
    "    return\n",
    "\n",
    "def hwavelet(images, n):\n",
    "    cA = images\n",
    "    for i in range(n):\n",
    "        cA, (cH, cV, cD) = ptw.dwt2(cA, 'haar')\n",
    "    return cA\n",
    "\n",
    "def normalizar(dataset):\n",
    "    aux = []\n",
    "    for i in range(len(dataset)):\n",
    "        aux = aux + [dataset[i].reshape(24*24).tolist()]\n",
    "    return aux\n"
   ]
  },
  {
   "cell_type": "code",
   "execution_count": 6,
   "metadata": {},
   "outputs": [],
   "source": [
    "# paths\n",
    "pathAnger = 'images/anger/*.png'\n",
    "pathContempt = 'images/contempt/*.png'\n",
    "pathDisgust = 'images/disgust/*.png'\n",
    "pathFear = 'images/fear/*.png'\n",
    "pathHappy = 'images/happy/*.png'\n",
    "pathSadness = 'images/sadness/*.png'\n",
    "pathSurprise = 'images/surprise/*.png'\n",
    "\n",
    "#images\n",
    "imagesAnger = imread_collection(pathAnger)\n",
    "imagesContempt = imread_collection(pathContempt)\n",
    "imagesDisgust = imread_collection(pathDisgust)\n",
    "imagesFear = imread_collection(pathFear)\n",
    "imagesHappy = imread_collection(pathHappy)\n",
    "imagesSadness = imread_collection(pathSadness)\n",
    "imagesSurprise = imread_collection(pathSurprise)\n",
    "\n",
    "# Haar Wavelet\n",
    "imagesAngerHW = hwavelet(imagesAnger,1)\n",
    "imagesContemptHW = hwavelet(imagesContempt,1)\n",
    "imagesDisgustHW = hwavelet(imagesDisgust,1)\n",
    "imagesFearHW = hwavelet(imagesFear,1)\n",
    "imagesHappyHW = hwavelet(imagesHappy,1)\n",
    "imagesSadnessHW = hwavelet(imagesSadness,1)\n",
    "imagesSurpriseHW = hwavelet(imagesSurprise,1)\n",
    "\n",
    "# Normalizacion\n",
    "anger = normalizar(imagesAngerHW)\n",
    "contempt = normalizar(imagesContemptHW)\n",
    "disgust = normalizar(imagesDisgustHW)\n",
    "fear = normalizar(imagesFearHW)\n",
    "happy = normalizar(imagesHappyHW)\n",
    "sadness = normalizar(imagesSadnessHW)\n",
    "surprise = normalizar(imagesSurpriseHW)"
   ]
  },
  {
   "cell_type": "code",
   "execution_count": null,
   "metadata": {},
   "outputs": [],
   "source": []
  }
 ]
}