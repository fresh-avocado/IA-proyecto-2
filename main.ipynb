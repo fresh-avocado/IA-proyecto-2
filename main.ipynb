{
 "cells": [
  {
   "cell_type": "code",
   "execution_count": 30,
   "metadata": {
    "tags": []
   },
   "outputs": [],
   "source": [
    "from PIL import Image\n",
    "from skimage.io import imread_collection , concatenate_images\n",
    "from sklearn.neighbors import NearestNeighbors\n",
    "from sklearn import preprocessing, svm\n",
    "import numpy as np\n",
    "import matplotlib.pyplot as plt\n",
    "import pywt as ptw\n",
    "import copy as cp\n",
    "from skimage.io.manage_plugins import _inject_imread_collection_if_needed"
   ]
  },
  {
   "cell_type": "code",
   "execution_count": 31,
   "metadata": {},
   "outputs": [],
   "source": [
    "def draw(image):\n",
    "    plt.imshow(image)\n",
    "    plt.show()\n",
    "    return\n",
    "\n",
    "def hwavelet(images, n):\n",
    "    cA = images\n",
    "    for i in range(n):\n",
    "        cA, (cH, cV, cD) = ptw.dwt2(cA, 'haar')\n",
    "    return cA\n",
    "\n",
    "def normalizar(dataset):\n",
    "    aux = []\n",
    "    for i in range(len(dataset)):\n",
    "        aux = aux + [dataset[i].reshape(24*24).tolist()]\n",
    "    return aux"
   ]
  },
  {
   "cell_type": "code",
   "execution_count": 32,
   "metadata": {},
   "outputs": [
    {
     "name": "stdout",
     "output_type": "stream",
     "text": [
      "978\n",
      "978\n",
      "prediction:  ['SURPRISE']\n"
     ]
    }
   ],
   "source": [
    "ANGER = 0\n",
    "CONTEMPT = 1\n",
    "DISGUST = 2\n",
    "FEAR = 3\n",
    "HAPPY = 4\n",
    "SADNESS = 5\n",
    "SURPRISE = 6\n",
    "\n",
    "# paths\n",
    "pathAnger = 'images/anger/*.png'\n",
    "pathContempt = 'images/contempt/*.png'\n",
    "pathDisgust = 'images/disgust/*.png'\n",
    "pathFear = 'images/fear/*.png'\n",
    "pathHappy = 'images/happy/*.png'\n",
    "pathSadness = 'images/sadness/*.png'\n",
    "pathSurprise = 'images/surprise/*.png'\n",
    "\n",
    "#images\n",
    "imagesAnger = imread_collection(pathAnger)\n",
    "imagesContempt = imread_collection(pathContempt)\n",
    "imagesDisgust = imread_collection(pathDisgust)\n",
    "imagesFear = imread_collection(pathFear)\n",
    "imagesHappy = imread_collection(pathHappy)\n",
    "imagesSadness = imread_collection(pathSadness)\n",
    "imagesSurprise = imread_collection(pathSurprise)\n",
    "\n",
    "# Haar Wavelet\n",
    "imagesAngerHW = hwavelet(imagesAnger, 1)\n",
    "imagesContemptHW = hwavelet(imagesContempt, 1)\n",
    "imagesDisgustHW = hwavelet(imagesDisgust, 1)\n",
    "imagesFearHW = hwavelet(imagesFear, 1)\n",
    "imagesHappyHW = hwavelet(imagesHappy, 1)\n",
    "imagesSadnessHW = hwavelet(imagesSadness, 1)\n",
    "imagesSurpriseHW = hwavelet(imagesSurprise, 1)\n",
    "\n",
    "# Normalizacion\n",
    "anger = normalizar(imagesAngerHW)\n",
    "contempt = normalizar(imagesContemptHW)\n",
    "disgust = normalizar(imagesDisgustHW)\n",
    "fear = normalizar(imagesFearHW)\n",
    "happy = normalizar(imagesHappyHW)\n",
    "sadness = normalizar(imagesSadnessHW)\n",
    "surprise = normalizar(imagesSurpriseHW)\n",
    "\n",
    "def target_vector():\n",
    "  return ['ANGER']*len(anger) + ['CONTEMPT']*len(contempt) + ['DISGUST']*len(disgust) \\\n",
    "    + ['FEAR']*len(fear) + ['HAPPY']*len(happy) + ['SADNESS']*len(sadness) \\\n",
    "    + ['SURPRISE']*len(surprise)\n",
    "\n",
    "X = anger + contempt + disgust + fear + happy + sadness + surprise\n",
    "Y = target_vector()\n",
    "\n",
    "print(len(X))\n",
    "print(len(Y))\n",
    "\n",
    "ajuste = svm.SVC(gamma=0.001, C=100)\n",
    "ajuste.fit(X, Y)\n",
    "\n",
    "molesto = 'test/S010_004_00000017.png'\n",
    "\n",
    "img = Image.open(molesto)\n",
    "img_wavelet = hwavelet(img, 1)\n",
    "normalized_img = normalizar([img_wavelet])[0]\n",
    "# print(len(normalized_img))\n",
    "print('prediction: ', ajuste.predict([normalized_img]))\n",
    "    "
   ]
  },
  {
   "cell_type": "code",
   "execution_count": null,
   "metadata": {},
   "outputs": [],
   "source": []
  }
 ],
 "metadata": {
  "kernelspec": {
   "display_name": "Python 3.6.8 64-bit",
   "name": "python368jvsc74a57bd0aee8b7b246df8f9039afb4144a1f6fd8d2ca17a180786b69acc140d282b71a49"
  },
  "language_info": {
   "codemirror_mode": {
    "name": "ipython",
    "version": 3
   },
   "file_extension": ".py",
   "mimetype": "text/x-python",
   "name": "python",
   "nbconvert_exporter": "python",
   "pygments_lexer": "ipython3",
   "version": "3.6.8"
  },
  "metadata": {
   "interpreter": {
    "hash": "aee8b7b246df8f9039afb4144a1f6fd8d2ca17a180786b69acc140d282b71a49"
   }
  },
  "orig_nbformat": 2
 },
 "nbformat": 4,
 "nbformat_minor": 2
}